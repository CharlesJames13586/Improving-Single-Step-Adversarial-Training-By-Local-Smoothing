{
 "cells": [
  {
   "cell_type": "code",
   "execution_count": null,
   "metadata": {},
   "outputs": [],
   "source": [
    "import torch\n",
    "import numpy\n",
    "import data\n",
    "import models\n",
    "import utils\n",
    "from matplotlib import pyplot as plt\n"
   ]
  },
  {
   "cell_type": "code",
   "execution_count": null,
   "metadata": {},
   "outputs": [],
   "source": [
    "torch.cuda.set_device(3)"
   ]
  },
  {
   "cell_type": "code",
   "execution_count": null,
   "metadata": {},
   "outputs": [],
   "source": [
    "train_batches = data.get_loaders(\"cifar10\", -1, batch_size=1, train_set=True, shuffle=False, data_augm=False)\n",
    "model = models.get_model(\"cnn\", n_cls=10, half_prec=False, shapes_dict=data.shapes_dict[\"cifar10\"], n_filters_cnn=6).cuda()\n",
    "model_saved = utils.load_model(\"211654\")\n",
    "model.load_state_dict(model_saved[\"last\"])"
   ]
  },
  {
   "cell_type": "code",
   "execution_count": null,
   "metadata": {},
   "outputs": [],
   "source": [
    "m = torch.nn.Conv2d(3, 1, 3, stride=1, padding=1, bias=False)\n",
    "relu = torch.nn.ReLU()\n",
    "m.weight.shape"
   ]
  },
  {
   "cell_type": "code",
   "execution_count": null,
   "metadata": {},
   "outputs": [],
   "source": [
    "for name, parameters in model.named_parameters():\n",
    "    if name==\"_model.0.weight\":\n",
    "        weight = parameters.detach().cpu()\n",
    "    if name==\"_model.0.bias\":\n",
    "        bias = parameters.detach().cpu()"
   ]
  },
  {
   "cell_type": "code",
   "execution_count": null,
   "metadata": {},
   "outputs": [],
   "source": [
    "weight[0].unsqueeze(dim=0)"
   ]
  },
  {
   "cell_type": "code",
   "execution_count": null,
   "metadata": {},
   "outputs": [],
   "source": [
    "bias"
   ]
  },
  {
   "cell_type": "code",
   "execution_count": null,
   "metadata": {},
   "outputs": [],
   "source": [
    "filter_i = 1"
   ]
  },
  {
   "cell_type": "code",
   "execution_count": null,
   "metadata": {},
   "outputs": [],
   "source": [
    "m.weight.data = weight[filter_i].unsqueeze(dim=0)"
   ]
  },
  {
   "cell_type": "code",
   "execution_count": null,
   "metadata": {},
   "outputs": [],
   "source": [
    "m.weight"
   ]
  },
  {
   "cell_type": "code",
   "execution_count": null,
   "metadata": {},
   "outputs": [],
   "source": [
    "delta = torch.zeros((1,3,32,32))\n",
    "delta.uniform_(-10/255, 10/255)"
   ]
  },
  {
   "cell_type": "code",
   "execution_count": null,
   "metadata": {},
   "outputs": [],
   "source": [
    "for i, (X, y) in enumerate(train_batches):\n",
    "    if i == 9:\n",
    "        print(X.shape)\n",
    "        \n",
    "        # feature_eta = relu(m(X+delta)+bias[filter_i])\n",
    "        # feature = relu(m(X))\n",
    "        feature_eta = m(X+delta)+bias[filter_i]\n",
    "        feature = m(X)\n",
    "        print(feature.shape)\n",
    "\n",
    "        break"
   ]
  },
  {
   "cell_type": "code",
   "execution_count": null,
   "metadata": {},
   "outputs": [],
   "source": [
    "feature"
   ]
  },
  {
   "cell_type": "code",
   "execution_count": null,
   "metadata": {},
   "outputs": [],
   "source": [
    "relu(feature)"
   ]
  },
  {
   "cell_type": "code",
   "execution_count": null,
   "metadata": {},
   "outputs": [],
   "source": [
    "torch.sign(relu(feature))"
   ]
  },
  {
   "cell_type": "code",
   "execution_count": null,
   "metadata": {},
   "outputs": [],
   "source": [
    "norm_feature = numpy.linalg.norm(feature.detach())\n",
    "norm_feature_eta = numpy.linalg.norm(feature_eta.detach())\n",
    "print(norm_feature)\n",
    "print(norm_feature_eta)"
   ]
  },
  {
   "cell_type": "code",
   "execution_count": null,
   "metadata": {},
   "outputs": [],
   "source": [
    "torch.sign(feature).detach().sum()"
   ]
  },
  {
   "cell_type": "code",
   "execution_count": null,
   "metadata": {},
   "outputs": [],
   "source": [
    "torch.sign(relu(feature)).detach().sum()"
   ]
  },
  {
   "cell_type": "code",
   "execution_count": null,
   "metadata": {},
   "outputs": [],
   "source": [
    "torch.sign(feature_eta).detach().sum()"
   ]
  },
  {
   "cell_type": "code",
   "execution_count": null,
   "metadata": {},
   "outputs": [],
   "source": [
    "torch.sign(relu(feature_eta)).detach().sum()"
   ]
  },
  {
   "cell_type": "code",
   "execution_count": null,
   "metadata": {},
   "outputs": [],
   "source": [
    "(torch.sign(relu(feature))*torch.sign(relu(feature_eta))).sum()"
   ]
  },
  {
   "cell_type": "code",
   "execution_count": null,
   "metadata": {},
   "outputs": [],
   "source": [
    "plt.matshow(relu(feature).detach().numpy()[0][0], cmap=plt.cm.Reds)\n",
    "# plt.matshow(feature.detach().numpy()[0][0], cmap=plt.cm.coolwarm)\n",
    "plt.axis('off')\n",
    "plt.colorbar(fraction=0.0455, pad=0.05)\n",
    "plt.savefig(\"img/feature_filter{}.pdf\".format(filter_i))\n",
    "# plt.matshow(feature_eta.detach().numpy()[0][0], cmap=plt.cm.Reds)\n",
    "plt.matshow(feature_eta.detach().numpy()[0][0], cmap=plt.cm.coolwarm)\n",
    "plt.axis('off')\n",
    "plt.colorbar(fraction=0.0455, pad=0.05)\n",
    "plt.savefig(\"img/feature_eta_filter{}.pdf\".format(filter_i))"
   ]
  },
  {
   "cell_type": "code",
   "execution_count": null,
   "metadata": {},
   "outputs": [],
   "source": [
    "from torchvision import transforms\n",
    "toPIL = transforms.ToPILImage()\n",
    "pic = toPIL(X[0])\n",
    "pic.save(\"X0.jpg\")\n",
    "pic = toPIL((X+delta)[0])\n",
    "pic.save(\"X0_eta.jpg\")"
   ]
  }
 ],
 "metadata": {
  "kernelspec": {
   "display_name": "Python 3.9.5 ('base')",
   "language": "python",
   "name": "python3"
  },
  "language_info": {
   "codemirror_mode": {
    "name": "ipython",
    "version": 3
   },
   "file_extension": ".py",
   "mimetype": "text/x-python",
   "name": "python",
   "nbconvert_exporter": "python",
   "pygments_lexer": "ipython3",
   "version": "3.9.5"
  },
  "orig_nbformat": 4,
  "vscode": {
   "interpreter": {
    "hash": "e615813c5489b1590d5f8b2d596a39a5f3baf5ccbb6dde5ecf5546914cc6cb8b"
   }
  }
 },
 "nbformat": 4,
 "nbformat_minor": 2
}
